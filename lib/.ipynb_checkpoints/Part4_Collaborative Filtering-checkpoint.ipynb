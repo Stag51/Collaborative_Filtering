{
 "cells": [
  {
   "cell_type": "markdown",
   "metadata": {},
   "source": [
    "# What is Collaborative Filtering?"
   ]
  },
  {
   "cell_type": "markdown",
   "metadata": {},
   "source": [
    "Collaborative filtering is the predictive process behind recommendation engines. Recommendation engines analyze information about users with similar tastes to assess the probability that a target individual will enjoy something.\n",
    "\n",
    "Collaborative filtering uses algorithms to filter data from user reviews to make personalized recommendations for users with similar preferences. Collaborative filtering is also used to select content and advertising for individuals on social media."
   ]
  },
  {
   "cell_type": "markdown",
   "metadata": {},
   "source": [
    "Collaborative filtering filters information by using the interactions and data collected by the system from other users. For example when we want to find a new movie to watch we'll often ask our friends for recommendations.\n",
    "\n",
    "Naturally, we have greater trust in the recommendations from friends who share tastes similar to our own. Collaborative filtering does the same job. Collaborative filtering mostly focuses on finding similarity between users and recommend each other their likes. There are various ways to find the similarity measure : Cosine similarity, Pearson similarity, Jaccard similarity etc."
   ]
  },
  {
   "cell_type": "markdown",
   "metadata": {},
   "source": [
    "# Importing required libraries"
   ]
  },
  {
   "cell_type": "code",
   "execution_count": 1,
   "metadata": {},
   "outputs": [
    {
     "name": "stdout",
     "output_type": "stream",
     "text": [
      "Requirement already satisfied: scikit-surprise in c:\\users\\zeeshan\\anaconda3\\lib\\site-packages (1.1.1)\n",
      "Requirement already satisfied: joblib>=0.11 in c:\\users\\zeeshan\\anaconda3\\lib\\site-packages (from scikit-surprise) (0.14.1)\n",
      "Requirement already satisfied: numpy>=1.11.2 in c:\\users\\zeeshan\\anaconda3\\lib\\site-packages (from scikit-surprise) (1.20.3)\n",
      "Requirement already satisfied: scipy>=1.0.0 in c:\\users\\zeeshan\\anaconda3\\lib\\site-packages (from scikit-surprise) (1.4.1)\n",
      "Requirement already satisfied: six>=1.10.0 in c:\\users\\zeeshan\\anaconda3\\lib\\site-packages (from scikit-surprise) (1.16.0)\n"
     ]
    },
    {
     "name": "stderr",
     "output_type": "stream",
     "text": [
      "WARNING: Ignoring invalid distribution -umpy (c:\\users\\zeeshan\\anaconda3\\lib\\site-packages)\n",
      "WARNING: Ignoring invalid distribution -umpy (c:\\users\\zeeshan\\anaconda3\\lib\\site-packages)\n",
      "WARNING: Ignoring invalid distribution -umpy (c:\\users\\zeeshan\\anaconda3\\lib\\site-packages)\n",
      "WARNING: Ignoring invalid distribution -umpy (c:\\users\\zeeshan\\anaconda3\\lib\\site-packages)\n",
      "WARNING: Ignoring invalid distribution -umpy (c:\\users\\zeeshan\\anaconda3\\lib\\site-packages)\n",
      "WARNING: Ignoring invalid distribution -umpy (c:\\users\\zeeshan\\anaconda3\\lib\\site-packages)\n"
     ]
    }
   ],
   "source": [
    "# Installing surprise Library\n",
    "# !pip install scikit-surprise"
   ]
  },
  {
   "cell_type": "code",
   "execution_count": 1,
   "metadata": {},
   "outputs": [],
   "source": [
    "# Importing basic libraries\n",
    "import pandas as pd\n",
    "import numpy as np\n",
    "import seaborn as sns\n",
    "import matplotlib.pyplot as plt\n",
    "%matplotlib inline\n",
    "import random\n",
    "from IPython.display import Image\n",
    "\n",
    "# Importing scipy.sparse.csr_matrix for kNN data preparation\n",
    "from scipy.sparse import csr_matrix\n",
    "\n",
    "# Importing kNN algorithm\n",
    "from sklearn.neighbors import NearestNeighbors\n",
    "\n",
    "# Importing cosine_similarity to calculate cosine similarity in memory based collaborative filtering\n",
    "from sklearn.metrics.pairwise import cosine_similarity"
   ]
  },
  {
   "cell_type": "code",
   "execution_count": 2,
   "metadata": {},
   "outputs": [],
   "source": [
    "# Importing surprise.Reader,Dataset for surprise data preparation\n",
    "from surprise import Reader, Dataset\n",
    "\n",
    "# Importing for surprise model customizations\n",
    "from surprise.model_selection import train_test_split, cross_validate, GridSearchCV"
   ]
  },
  {
   "cell_type": "code",
   "execution_count": 3,
   "metadata": {},
   "outputs": [],
   "source": [
    "# Importing algorithms from Surprise package\n",
    "from surprise.prediction_algorithms import CoClustering\n",
    "from surprise.prediction_algorithms import NMF\n",
    "\n",
    "# Importing accuracy to get metrics such as RMSE and MAE\n",
    "from surprise import accuracy"
   ]
  },
  {
   "cell_type": "markdown",
   "metadata": {},
   "source": [
    "# Importing the dataset as df"
   ]
  },
  {
   "cell_type": "code",
   "execution_count": 8,
   "metadata": {},
   "outputs": [],
   "source": [
    "df = pd.read_excel('C:\\\\Users\\\\DELL\\\\Collaborative filtering\\\\modular_code\\\\input\\\\Rec_sys_data.xlsx')"
   ]
  },
  {
   "cell_type": "code",
   "execution_count": 9,
   "metadata": {
    "scrolled": false
   },
   "outputs": [
    {
     "data": {
      "text/html": [
       "<div>\n",
       "<style scoped>\n",
       "    .dataframe tbody tr th:only-of-type {\n",
       "        vertical-align: middle;\n",
       "    }\n",
       "\n",
       "    .dataframe tbody tr th {\n",
       "        vertical-align: top;\n",
       "    }\n",
       "\n",
       "    .dataframe thead th {\n",
       "        text-align: right;\n",
       "    }\n",
       "</style>\n",
       "<table border=\"1\" class=\"dataframe\">\n",
       "  <thead>\n",
       "    <tr style=\"text-align: right;\">\n",
       "      <th></th>\n",
       "      <th>InvoiceNo</th>\n",
       "      <th>StockCode</th>\n",
       "      <th>Quantity</th>\n",
       "      <th>InvoiceDate</th>\n",
       "      <th>DeliveryDate</th>\n",
       "      <th>Discount%</th>\n",
       "      <th>ShipMode</th>\n",
       "      <th>ShippingCost</th>\n",
       "      <th>CustomerID</th>\n",
       "    </tr>\n",
       "  </thead>\n",
       "  <tbody>\n",
       "    <tr>\n",
       "      <th>0</th>\n",
       "      <td>536365</td>\n",
       "      <td>84029E</td>\n",
       "      <td>6</td>\n",
       "      <td>2010-12-01 08:26:00</td>\n",
       "      <td>2010-12-02 08:26:00</td>\n",
       "      <td>0.20</td>\n",
       "      <td>ExpressAir</td>\n",
       "      <td>30.12</td>\n",
       "      <td>17850</td>\n",
       "    </tr>\n",
       "    <tr>\n",
       "      <th>1</th>\n",
       "      <td>536365</td>\n",
       "      <td>71053</td>\n",
       "      <td>6</td>\n",
       "      <td>2010-12-01 08:26:00</td>\n",
       "      <td>2010-12-02 08:26:00</td>\n",
       "      <td>0.21</td>\n",
       "      <td>ExpressAir</td>\n",
       "      <td>30.12</td>\n",
       "      <td>17850</td>\n",
       "    </tr>\n",
       "    <tr>\n",
       "      <th>2</th>\n",
       "      <td>536365</td>\n",
       "      <td>21730</td>\n",
       "      <td>6</td>\n",
       "      <td>2010-12-01 08:26:00</td>\n",
       "      <td>2010-12-03 08:26:00</td>\n",
       "      <td>0.56</td>\n",
       "      <td>Regular Air</td>\n",
       "      <td>15.22</td>\n",
       "      <td>17850</td>\n",
       "    </tr>\n",
       "    <tr>\n",
       "      <th>3</th>\n",
       "      <td>536365</td>\n",
       "      <td>84406B</td>\n",
       "      <td>8</td>\n",
       "      <td>2010-12-01 08:26:00</td>\n",
       "      <td>2010-12-03 08:26:00</td>\n",
       "      <td>0.30</td>\n",
       "      <td>Regular Air</td>\n",
       "      <td>15.22</td>\n",
       "      <td>17850</td>\n",
       "    </tr>\n",
       "    <tr>\n",
       "      <th>4</th>\n",
       "      <td>536365</td>\n",
       "      <td>22752</td>\n",
       "      <td>2</td>\n",
       "      <td>2010-12-01 08:26:00</td>\n",
       "      <td>2010-12-04 08:26:00</td>\n",
       "      <td>0.57</td>\n",
       "      <td>Delivery Truck</td>\n",
       "      <td>5.81</td>\n",
       "      <td>17850</td>\n",
       "    </tr>\n",
       "  </tbody>\n",
       "</table>\n",
       "</div>"
      ],
      "text/plain": [
       "   InvoiceNo StockCode  Quantity         InvoiceDate        DeliveryDate  \\\n",
       "0     536365    84029E         6 2010-12-01 08:26:00 2010-12-02 08:26:00   \n",
       "1     536365     71053         6 2010-12-01 08:26:00 2010-12-02 08:26:00   \n",
       "2     536365     21730         6 2010-12-01 08:26:00 2010-12-03 08:26:00   \n",
       "3     536365    84406B         8 2010-12-01 08:26:00 2010-12-03 08:26:00   \n",
       "4     536365     22752         2 2010-12-01 08:26:00 2010-12-04 08:26:00   \n",
       "\n",
       "   Discount%        ShipMode  ShippingCost  CustomerID  \n",
       "0       0.20      ExpressAir         30.12       17850  \n",
       "1       0.21      ExpressAir         30.12       17850  \n",
       "2       0.56     Regular Air         15.22       17850  \n",
       "3       0.30     Regular Air         15.22       17850  \n",
       "4       0.57  Delivery Truck          5.81       17850  "
      ]
     },
     "execution_count": 9,
     "metadata": {},
     "output_type": "execute_result"
    }
   ],
   "source": [
    "df.head()"
   ]
  },
  {
   "cell_type": "markdown",
   "metadata": {},
   "source": [
    "## About the Dataset"
   ]
  },
  {
   "cell_type": "markdown",
   "metadata": {},
   "source": [
    "The 8 columns or features are as:\n",
    "1. InvoiceNo : The invoice number of particular transaction\n",
    "2. StockCode : The unique code for particular item\n",
    "3. Descripion : The description of particular item\n",
    "4. Quantity : The quantity of particular item bought by the customer\n",
    "5. InvoiceDate : The date and time when the transaction was made\n",
    "6. UnitPrice : The price of 1 unit of particular item\n",
    "7. CustomerID : The unique id of customer who bought the item\n",
    "8. Country : The country or region of the customer"
   ]
  },
  {
   "cell_type": "code",
   "execution_count": 10,
   "metadata": {},
   "outputs": [
    {
     "data": {
      "text/plain": [
       "(272404, 9)"
      ]
     },
     "execution_count": 10,
     "metadata": {},
     "output_type": "execute_result"
    }
   ],
   "source": [
    "df.shape"
   ]
  },
  {
   "cell_type": "code",
   "execution_count": 11,
   "metadata": {
    "scrolled": false
   },
   "outputs": [
    {
     "data": {
      "text/plain": [
       "InvoiceNo       0\n",
       "StockCode       0\n",
       "Quantity        0\n",
       "InvoiceDate     0\n",
       "DeliveryDate    0\n",
       "Discount%       0\n",
       "ShipMode        0\n",
       "ShippingCost    0\n",
       "CustomerID      0\n",
       "dtype: int64"
      ]
     },
     "execution_count": 11,
     "metadata": {},
     "output_type": "execute_result"
    }
   ],
   "source": [
    "df.isnull().sum().sort_values(ascending=False)"
   ]
  },
  {
   "cell_type": "code",
   "execution_count": 12,
   "metadata": {},
   "outputs": [],
   "source": [
    "df1 = df.dropna()"
   ]
  },
  {
   "cell_type": "code",
   "execution_count": 13,
   "metadata": {},
   "outputs": [
    {
     "data": {
      "text/html": [
       "<div>\n",
       "<style scoped>\n",
       "    .dataframe tbody tr th:only-of-type {\n",
       "        vertical-align: middle;\n",
       "    }\n",
       "\n",
       "    .dataframe tbody tr th {\n",
       "        vertical-align: top;\n",
       "    }\n",
       "\n",
       "    .dataframe thead th {\n",
       "        text-align: right;\n",
       "    }\n",
       "</style>\n",
       "<table border=\"1\" class=\"dataframe\">\n",
       "  <thead>\n",
       "    <tr style=\"text-align: right;\">\n",
       "      <th></th>\n",
       "      <th>InvoiceNo</th>\n",
       "      <th>Quantity</th>\n",
       "      <th>Discount%</th>\n",
       "      <th>ShippingCost</th>\n",
       "      <th>CustomerID</th>\n",
       "    </tr>\n",
       "  </thead>\n",
       "  <tbody>\n",
       "    <tr>\n",
       "      <th>count</th>\n",
       "      <td>272404.000000</td>\n",
       "      <td>272404.000000</td>\n",
       "      <td>272404.000000</td>\n",
       "      <td>272404.000000</td>\n",
       "      <td>272404.000000</td>\n",
       "    </tr>\n",
       "    <tr>\n",
       "      <th>mean</th>\n",
       "      <td>553740.733319</td>\n",
       "      <td>13.579536</td>\n",
       "      <td>0.300092</td>\n",
       "      <td>17.053491</td>\n",
       "      <td>15284.323523</td>\n",
       "    </tr>\n",
       "    <tr>\n",
       "      <th>std</th>\n",
       "      <td>9778.082879</td>\n",
       "      <td>149.136756</td>\n",
       "      <td>0.176023</td>\n",
       "      <td>10.013210</td>\n",
       "      <td>1714.478624</td>\n",
       "    </tr>\n",
       "    <tr>\n",
       "      <th>min</th>\n",
       "      <td>536365.000000</td>\n",
       "      <td>1.000000</td>\n",
       "      <td>0.000000</td>\n",
       "      <td>5.810000</td>\n",
       "      <td>12346.000000</td>\n",
       "    </tr>\n",
       "    <tr>\n",
       "      <th>25%</th>\n",
       "      <td>545312.000000</td>\n",
       "      <td>2.000000</td>\n",
       "      <td>0.150000</td>\n",
       "      <td>5.810000</td>\n",
       "      <td>13893.000000</td>\n",
       "    </tr>\n",
       "    <tr>\n",
       "      <th>50%</th>\n",
       "      <td>553902.000000</td>\n",
       "      <td>6.000000</td>\n",
       "      <td>0.300000</td>\n",
       "      <td>15.220000</td>\n",
       "      <td>15157.000000</td>\n",
       "    </tr>\n",
       "    <tr>\n",
       "      <th>75%</th>\n",
       "      <td>562457.000000</td>\n",
       "      <td>12.000000</td>\n",
       "      <td>0.450000</td>\n",
       "      <td>30.120000</td>\n",
       "      <td>16788.000000</td>\n",
       "    </tr>\n",
       "    <tr>\n",
       "      <th>max</th>\n",
       "      <td>569629.000000</td>\n",
       "      <td>74215.000000</td>\n",
       "      <td>0.600000</td>\n",
       "      <td>30.120000</td>\n",
       "      <td>18287.000000</td>\n",
       "    </tr>\n",
       "  </tbody>\n",
       "</table>\n",
       "</div>"
      ],
      "text/plain": [
       "           InvoiceNo       Quantity      Discount%   ShippingCost  \\\n",
       "count  272404.000000  272404.000000  272404.000000  272404.000000   \n",
       "mean   553740.733319      13.579536       0.300092      17.053491   \n",
       "std      9778.082879     149.136756       0.176023      10.013210   \n",
       "min    536365.000000       1.000000       0.000000       5.810000   \n",
       "25%    545312.000000       2.000000       0.150000       5.810000   \n",
       "50%    553902.000000       6.000000       0.300000      15.220000   \n",
       "75%    562457.000000      12.000000       0.450000      30.120000   \n",
       "max    569629.000000   74215.000000       0.600000      30.120000   \n",
       "\n",
       "          CustomerID  \n",
       "count  272404.000000  \n",
       "mean    15284.323523  \n",
       "std      1714.478624  \n",
       "min     12346.000000  \n",
       "25%     13893.000000  \n",
       "50%     15157.000000  \n",
       "75%     16788.000000  \n",
       "max     18287.000000  "
      ]
     },
     "execution_count": 13,
     "metadata": {},
     "output_type": "execute_result"
    }
   ],
   "source": [
    "df1.describe()"
   ]
  },
  {
   "cell_type": "code",
   "execution_count": 14,
   "metadata": {},
   "outputs": [],
   "source": [
    "df1 = df1[df1.Quantity > 0]"
   ]
  },
  {
   "cell_type": "code",
   "execution_count": 15,
   "metadata": {},
   "outputs": [
    {
     "data": {
      "text/html": [
       "<div>\n",
       "<style scoped>\n",
       "    .dataframe tbody tr th:only-of-type {\n",
       "        vertical-align: middle;\n",
       "    }\n",
       "\n",
       "    .dataframe tbody tr th {\n",
       "        vertical-align: top;\n",
       "    }\n",
       "\n",
       "    .dataframe thead th {\n",
       "        text-align: right;\n",
       "    }\n",
       "</style>\n",
       "<table border=\"1\" class=\"dataframe\">\n",
       "  <thead>\n",
       "    <tr style=\"text-align: right;\">\n",
       "      <th></th>\n",
       "      <th>InvoiceNo</th>\n",
       "      <th>Quantity</th>\n",
       "      <th>Discount%</th>\n",
       "      <th>ShippingCost</th>\n",
       "      <th>CustomerID</th>\n",
       "    </tr>\n",
       "  </thead>\n",
       "  <tbody>\n",
       "    <tr>\n",
       "      <th>count</th>\n",
       "      <td>272404.000000</td>\n",
       "      <td>272404.000000</td>\n",
       "      <td>272404.000000</td>\n",
       "      <td>272404.000000</td>\n",
       "      <td>272404.000000</td>\n",
       "    </tr>\n",
       "    <tr>\n",
       "      <th>mean</th>\n",
       "      <td>553740.733319</td>\n",
       "      <td>13.579536</td>\n",
       "      <td>0.300092</td>\n",
       "      <td>17.053491</td>\n",
       "      <td>15284.323523</td>\n",
       "    </tr>\n",
       "    <tr>\n",
       "      <th>std</th>\n",
       "      <td>9778.082879</td>\n",
       "      <td>149.136756</td>\n",
       "      <td>0.176023</td>\n",
       "      <td>10.013210</td>\n",
       "      <td>1714.478624</td>\n",
       "    </tr>\n",
       "    <tr>\n",
       "      <th>min</th>\n",
       "      <td>536365.000000</td>\n",
       "      <td>1.000000</td>\n",
       "      <td>0.000000</td>\n",
       "      <td>5.810000</td>\n",
       "      <td>12346.000000</td>\n",
       "    </tr>\n",
       "    <tr>\n",
       "      <th>25%</th>\n",
       "      <td>545312.000000</td>\n",
       "      <td>2.000000</td>\n",
       "      <td>0.150000</td>\n",
       "      <td>5.810000</td>\n",
       "      <td>13893.000000</td>\n",
       "    </tr>\n",
       "    <tr>\n",
       "      <th>50%</th>\n",
       "      <td>553902.000000</td>\n",
       "      <td>6.000000</td>\n",
       "      <td>0.300000</td>\n",
       "      <td>15.220000</td>\n",
       "      <td>15157.000000</td>\n",
       "    </tr>\n",
       "    <tr>\n",
       "      <th>75%</th>\n",
       "      <td>562457.000000</td>\n",
       "      <td>12.000000</td>\n",
       "      <td>0.450000</td>\n",
       "      <td>30.120000</td>\n",
       "      <td>16788.000000</td>\n",
       "    </tr>\n",
       "    <tr>\n",
       "      <th>max</th>\n",
       "      <td>569629.000000</td>\n",
       "      <td>74215.000000</td>\n",
       "      <td>0.600000</td>\n",
       "      <td>30.120000</td>\n",
       "      <td>18287.000000</td>\n",
       "    </tr>\n",
       "  </tbody>\n",
       "</table>\n",
       "</div>"
      ],
      "text/plain": [
       "           InvoiceNo       Quantity      Discount%   ShippingCost  \\\n",
       "count  272404.000000  272404.000000  272404.000000  272404.000000   \n",
       "mean   553740.733319      13.579536       0.300092      17.053491   \n",
       "std      9778.082879     149.136756       0.176023      10.013210   \n",
       "min    536365.000000       1.000000       0.000000       5.810000   \n",
       "25%    545312.000000       2.000000       0.150000       5.810000   \n",
       "50%    553902.000000       6.000000       0.300000      15.220000   \n",
       "75%    562457.000000      12.000000       0.450000      30.120000   \n",
       "max    569629.000000   74215.000000       0.600000      30.120000   \n",
       "\n",
       "          CustomerID  \n",
       "count  272404.000000  \n",
       "mean    15284.323523  \n",
       "std      1714.478624  \n",
       "min     12346.000000  \n",
       "25%     13893.000000  \n",
       "50%     15157.000000  \n",
       "75%     16788.000000  \n",
       "max     18287.000000  "
      ]
     },
     "execution_count": 15,
     "metadata": {},
     "output_type": "execute_result"
    }
   ],
   "source": [
    "df1.describe()"
   ]
  },
  {
   "cell_type": "code",
   "execution_count": 16,
   "metadata": {},
   "outputs": [
    {
     "data": {
      "text/plain": [
       "(272404, 9)"
      ]
     },
     "execution_count": 16,
     "metadata": {},
     "output_type": "execute_result"
    }
   ],
   "source": [
    "df1.shape"
   ]
  },
  {
   "cell_type": "markdown",
   "metadata": {},
   "source": [
    "# Memory-Based Approach"
   ]
  },
  {
   "cell_type": "markdown",
   "metadata": {},
   "source": [
    "In Memory-Based approach, the closest user or items are calculated only by using Cosine similarity or Pearson correlation coefficients, which are only based on arithmetic operations."
   ]
  },
  {
   "cell_type": "markdown",
   "metadata": {},
   "source": [
    "A common distance metric is cosine similarity. The metric can be thought of geometrically if one treats a given user’s (item’s) row (column) of the ratings matrix as a vector. For user-based collaborative filtering, two users’ similarity is measured as the cosine of the angle between the two users’ vectors. For users u and u′, the cosine similarity is:\n",
    "\n"
   ]
  },
  {
   "cell_type": "markdown",
   "metadata": {},
   "source": [
    "As no training or optimization is involved, it is an easy to use approach. But its performance decreases when we have sparse data which hinders scalability of this approach for most of the real-world problems."
   ]
  },
  {
   "cell_type": "markdown",
   "metadata": {},
   "source": [
    "Memory-Based approach is further divided into :\n",
    "1. User-to-User Collaborative Filtering\n",
    "2. Item-to-Item Collaborative Filtering"
   ]
  },
  {
   "cell_type": "markdown",
   "metadata": {},
   "source": [
    "## User-to-User Collaborative Filtering"
   ]
  },
  {
   "cell_type": "markdown",
   "metadata": {},
   "source": [
    "User-Based Collaborative Filtering is a technique used to predict the items that a user might like on the basis of ratings given to that item by the other users who have similar taste with that of the target user."
   ]
  },
  {
   "cell_type": "markdown",
   "metadata": {},
   "source": [
    "In User-Based Collaborative Filtering, we create a matrix that describes behaviour of all users corresponding to all the items.\n",
    "Further, we build relation between mutiple users to identify the similar users."
   ]
  },
  {
   "cell_type": "markdown",
   "metadata": {},
   "source": [
    "### Implementation"
   ]
  },
  {
   "cell_type": "markdown",
   "metadata": {},
   "source": [
    "We are creating a df(matrix) which contains CustomerID and whether they have ever purchased a product using groupby."
   ]
  },
  {
   "cell_type": "code",
   "execution_count": null,
   "metadata": {},
   "outputs": [],
   "source": [
    "purchase = (df1.groupby(['CustomerID', 'StockCode'])['Quantity'].sum().unstack().reset_index().fillna(0).set_index('CustomerID'))"
   ]
  },
  {
   "cell_type": "code",
   "execution_count": null,
   "metadata": {
    "scrolled": true
   },
   "outputs": [],
   "source": [
    "purchase.head(30)"
   ]
  },
  {
   "cell_type": "markdown",
   "metadata": {},
   "source": [
    "We are getting the quantity ordered (example : 48,24,126) while we just want to know if that particular item is purchased or not. \n",
    "\n",
    "Thus we need to do encoding as 1(if purchased) or 0(not purchased)\n"
   ]
  },
  {
   "cell_type": "code",
   "execution_count": null,
   "metadata": {},
   "outputs": [],
   "source": [
    "def encode_units(x):\n",
    "    if x < 1: # If the quantity is less than 1\n",
    "        return 0 # Not purchased\n",
    "    if x >= 1: # If the quantity is greater than 1\n",
    "        return 1 # Purchased\n",
    "\n",
    "\n",
    "purchase = purchase.applymap(encode_units)"
   ]
  },
  {
   "cell_type": "code",
   "execution_count": null,
   "metadata": {
    "scrolled": true
   },
   "outputs": [],
   "source": [
    "purchase.head(30)"
   ]
  },
  {
   "cell_type": "markdown",
   "metadata": {},
   "source": [
    "The purchase matrix is now ready, which describes the behaviour of Customers corresponding to all the items.\n",
    "\n",
    "We can now apply Collaborative filtering on it."
   ]
  },
  {
   "cell_type": "code",
   "execution_count": null,
   "metadata": {},
   "outputs": [],
   "source": [
    "# Applying cosine_similarity on the purchase matrix\n",
    "user_similarity = cosine_similarity(purchase)"
   ]
  },
  {
   "cell_type": "code",
   "execution_count": null,
   "metadata": {},
   "outputs": [],
   "source": [
    "# Storing the similarity scores in a dataframe\n",
    "user_similarity_df = pd.DataFrame(user_similarity,index=purchase.index,columns=purchase.index)"
   ]
  },
  {
   "cell_type": "code",
   "execution_count": null,
   "metadata": {},
   "outputs": [],
   "source": [
    "user_similarity_df"
   ]
  },
  {
   "cell_type": "markdown",
   "metadata": {},
   "source": [
    "This is how the user_similarity_df looks like. It contains the similarity score of users with 0 being the least similar while 1 being the most similar."
   ]
  },
  {
   "cell_type": "markdown",
   "metadata": {},
   "source": [
    "#### Making Recommendations"
   ]
  },
  {
   "cell_type": "code",
   "execution_count": null,
   "metadata": {},
   "outputs": [],
   "source": [
    "def similar_users(user_id,k=5):\n",
    "    # separating df rows for the entered user id\n",
    "    user = user_similarity_df[user_similarity_df.index == user_id]\n",
    "    \n",
    "    # a df of all other users\n",
    "    other_users = user_similarity_df[user_similarity_df.index != user_id]\n",
    "    \n",
    "    # calc cosine similarity between user and each other user\n",
    "    similarities = cosine_similarity(user,other_users)[0].tolist()\n",
    "    \n",
    "    # create list of indices of these users\n",
    "    indices = other_users.index.tolist()\n",
    "    \n",
    "    # create key/values pairs of user index and their similarity\n",
    "    index_similarity = dict(zip(indices, similarities))\n",
    "    \n",
    "    # sort by similarity\n",
    "    index_similarity_sorted = sorted(index_similarity.items(),reverse=True)\n",
    "    \n",
    "    # grab k users off the top\n",
    "    top_users_similarities = index_similarity_sorted[:k]\n",
    "    users = [u[0] for u in top_users_similarities]\n",
    "    \n",
    "    print('The users with behaviour similar to that of user {0} are:'.format(user_id))\n",
    "    return users"
   ]
  },
  {
   "cell_type": "code",
   "execution_count": null,
   "metadata": {},
   "outputs": [],
   "source": [
    "simu = similar_users(12347)\n",
    "\n",
    "simu"
   ]
  },
  {
   "cell_type": "markdown",
   "metadata": {},
   "source": [
    "Further the similar users can be stored in a list and later we can display the items purchased by the similar users as done below"
   ]
  },
  {
   "cell_type": "code",
   "execution_count": null,
   "metadata": {},
   "outputs": [],
   "source": [
    "def simu_recommendation(userid):\n",
    "    \n",
    "    simu = similar_users(userid)\n",
    "\n",
    "    #obtaining all the items bought by similar users\n",
    "    simu_rec = []\n",
    "    for j in simu:\n",
    "        desc = df1[df1[\"CustomerID\"]==j]['StockCode'].to_list()\n",
    "        simu_rec.append(desc)\n",
    "    \n",
    "    #this gives us multi-dimensional list\n",
    "    # we need to flatten it\n",
    "    flat_list = []\n",
    "    for sublist in simu_rec:\n",
    "        for item in sublist:\n",
    "            flat_list.append(item)\n",
    "    final_list = list(dict.fromkeys(flat_list))\n",
    "    \n",
    "    # storing 10 random recommendations in a list\n",
    "    ten_recs = random.sample(final_list, 10)\n",
    "    \n",
    "    print('Items bought by Similar users based on Cosine Similarity')\n",
    "    \n",
    "    #returning 10 random recommendations\n",
    "    return ten_recs"
   ]
  },
  {
   "cell_type": "code",
   "execution_count": null,
   "metadata": {},
   "outputs": [],
   "source": [
    "simu_recommendation(12347)"
   ]
  },
  {
   "cell_type": "markdown",
   "metadata": {},
   "source": [
    "## Item-to-Item Collaborative Filtering"
   ]
  },
  {
   "cell_type": "markdown",
   "metadata": {},
   "source": [
    "An item-to-item filtering process uses a matrix to determine the likeness of pairs of items. Item-to-item processes then compare the current user’s preference to the items in the matrix for similarities upon which to base recommendations."
   ]
  },
  {
   "cell_type": "markdown",
   "metadata": {},
   "source": [
    "### Implementation"
   ]
  },
  {
   "cell_type": "markdown",
   "metadata": {},
   "source": [
    "We are creating a df(matrix) which contains item names and whether they have been ever purchased by a customer using groupby."
   ]
  },
  {
   "cell_type": "code",
   "execution_count": null,
   "metadata": {},
   "outputs": [],
   "source": [
    "items_purchase = (df1.groupby(['StockCode','CustomerID'])['Quantity'].sum().unstack().reset_index().fillna(0).set_index('StockCode'))"
   ]
  },
  {
   "cell_type": "code",
   "execution_count": null,
   "metadata": {
    "scrolled": true
   },
   "outputs": [],
   "source": [
    "items_purchase.head(30)"
   ]
  },
  {
   "cell_type": "markdown",
   "metadata": {},
   "source": [
    "We are getting the quantity ordered (example : 48,24,126) while we just want to know if that particular item is purchased or not. \n",
    "\n",
    "Thus we need to do encoding as 1(if purchased) or 0(not purchased)"
   ]
  },
  {
   "cell_type": "code",
   "execution_count": null,
   "metadata": {},
   "outputs": [],
   "source": [
    "items_purchase = items_purchase.applymap(encode_units)"
   ]
  },
  {
   "cell_type": "markdown",
   "metadata": {},
   "source": [
    "The item_purchase matrix is now ready, which describes if the item was purchased by particular customer or not.\n",
    "\n",
    "We can now apply Collaborative filtering on it."
   ]
  },
  {
   "cell_type": "code",
   "execution_count": null,
   "metadata": {},
   "outputs": [],
   "source": [
    "# Applying Cosine similarity on the items\n",
    "item_similarity = cosine_similarity(items_purchase)"
   ]
  },
  {
   "cell_type": "code",
   "execution_count": null,
   "metadata": {},
   "outputs": [],
   "source": [
    "# Storing the similarity scores in a dataframe\n",
    "item_similarity_df = pd.DataFrame(item_similarity,index=items_purchase.index,columns=items_purchase.index)"
   ]
  },
  {
   "cell_type": "code",
   "execution_count": null,
   "metadata": {},
   "outputs": [],
   "source": [
    "item_similarity_df.head(10)"
   ]
  },
  {
   "cell_type": "markdown",
   "metadata": {},
   "source": [
    "#### Making Recommendations"
   ]
  },
  {
   "cell_type": "code",
   "execution_count": null,
   "metadata": {},
   "outputs": [],
   "source": [
    "def similar_items(item,k=10):\n",
    "    # separating df rows of the selected item\n",
    "    item = item_similarity_df[item_similarity_df.index == item]\n",
    "    \n",
    "    # a df of all other items\n",
    "    other_items = item_similarity_df\n",
    "    \n",
    "    # calc cosine similarity between selected item with other items\n",
    "    similarities = cosine_similarity(item,other_items)[0].tolist()\n",
    "    \n",
    "    # create list of indices of these items\n",
    "    indices = other_items.index.tolist()\n",
    "    \n",
    "    # create key/values pairs of item index and their similarity\n",
    "    index_similarity = dict(zip(indices, similarities))\n",
    "    \n",
    "    # sort by similarity\n",
    "    index_similarity_sorted = sorted(index_similarity.items())\n",
    "    \n",
    "    # grab k items from the top\n",
    "    top_item_similarities = index_similarity_sorted[:k]\n",
    "    items = [u[0] for u in top_item_similarities]\n",
    "    \n",
    "    print('Similar items based on purchase behaviour (item-to-item collaborative filtering)')\n",
    "    return items"
   ]
  },
  {
   "cell_type": "markdown",
   "metadata": {},
   "source": [
    "# Model Based Approach"
   ]
  },
  {
   "cell_type": "markdown",
   "metadata": {},
   "source": [
    "In this approach, Collaborative Filtering models are created using machine learning algorithms to predict if the user is likely to purchase an item or not based on their past behaviour."
   ]
  },
  {
   "cell_type": "markdown",
   "metadata": {},
   "source": [
    "The possible approaches can be:\n",
    "1. KNN : Collaborative Filtering Using k-Nearest Neighbors (kNN) kNN is a machine learning algorithm to find clusters of similar users based on past behaviour, and make predictions using the average of top-k nearest neighbors.\n",
    "2. Matrix Factorization (MF): The idea behind such models is that attitudes or preferences of a user can be determined by a small number of hidden factors. We can call these factors as Embeddings."
   ]
  },
  {
   "cell_type": "markdown",
   "metadata": {},
   "source": [
    "## Collaborative Filtering using k-Nearest Neighbors"
   ]
  },
  {
   "cell_type": "markdown",
   "metadata": {},
   "source": [
    "For passing our sparse matrix into KNN we need to convert it into CSR\n",
    "\n",
    "CSR divides a sparse matrix into 3 arrays : values, extent of rows, index of columns"
   ]
  },
  {
   "cell_type": "markdown",
   "metadata": {},
   "source": [
    "### Model building"
   ]
  },
  {
   "cell_type": "code",
   "execution_count": null,
   "metadata": {},
   "outputs": [],
   "source": [
    "purchase_matrix = csr_matrix(purchase.values)\n",
    "\n",
    "# Creating KNN Model with metric parameter as euclidean distance\n",
    "model_knn = NearestNeighbors(metric = 'euclidean', algorithm = 'brute')\n",
    "\n",
    "# Fitting the model on purchase_matrix\n",
    "model_knn.fit(purchase_matrix)"
   ]
  },
  {
   "cell_type": "markdown",
   "metadata": {},
   "source": [
    "### Finding similar users"
   ]
  },
  {
   "cell_type": "code",
   "execution_count": null,
   "metadata": {},
   "outputs": [],
   "source": [
    "# Creating empty list where we will store user id of similar users\n",
    "simu_knn = []"
   ]
  },
  {
   "cell_type": "code",
   "execution_count": null,
   "metadata": {},
   "outputs": [],
   "source": [
    "def similar_users_knn(purchase,query_index):\n",
    "    \n",
    "    # Storing the distance and index of nearest neighors\n",
    "    distances, indices = model_knn.kneighbors(purchase.iloc[query_index,:].values.reshape(1, -1), n_neighbors = 5)\n",
    "    for i in range(0, len(distances.flatten())):\n",
    "        if i == 0:\n",
    "            print('Recommendations for {0}:\\n'.format(purchase.index[query_index]))\n",
    "        else:\n",
    "            print('{0}: {1}, with distance of {2}:'.format(i, purchase.index[indices.flatten()[i]], distances.flatten()[i]))\n",
    "            simu_knn.append(purchase.index[indices.flatten()[i]])    "
   ]
  },
  {
   "cell_type": "code",
   "execution_count": null,
   "metadata": {},
   "outputs": [],
   "source": [
    "similar_users_knn(purchase,1497)"
   ]
  },
  {
   "cell_type": "code",
   "execution_count": null,
   "metadata": {},
   "outputs": [],
   "source": [
    "simu_knn"
   ]
  },
  {
   "cell_type": "markdown",
   "metadata": {},
   "source": [
    "### Making Recommendations"
   ]
  },
  {
   "cell_type": "code",
   "execution_count": null,
   "metadata": {},
   "outputs": [],
   "source": [
    "def simu_recommendation_knn(simu_knn):\n",
    "    \n",
    "\n",
    "    #obtaining all the items bought by similar users\n",
    "    simu_rec = []\n",
    "    for j in simu_knn:\n",
    "        desc = df1[df1[\"CustomerID\"]==j]['StockCode'].to_list()\n",
    "        simu_rec.append(desc)\n",
    "    \n",
    "    #this gives us multi-dimensional list\n",
    "    # we need to flatten it\n",
    "    flat_list = []\n",
    "    for sublist in simu_rec:\n",
    "        for item in sublist:\n",
    "            flat_list.append(item)\n",
    "    final_list = list(dict.fromkeys(flat_list))\n",
    "    \n",
    "    # storing 10 random recommendations in a list\n",
    "    ten_recs = random.sample(final_list, 10)\n",
    "    \n",
    "    print('Items bought by Similar users based on KNN')\n",
    "    \n",
    "    #returning 10 random recommendations\n",
    "    return ten_recs"
   ]
  },
  {
   "cell_type": "code",
   "execution_count": null,
   "metadata": {},
   "outputs": [],
   "source": [
    "simu_recommendation_knn(simu_knn)"
   ]
  },
  {
   "cell_type": "markdown",
   "metadata": {},
   "source": [
    "## Collaborative Filtering using Matrix Factorization"
   ]
  },
  {
   "cell_type": "markdown",
   "metadata": {},
   "source": [
    "For Matrix Factorization, we are using the Surprise Package."
   ]
  },
  {
   "cell_type": "markdown",
   "metadata": {},
   "source": [
    "Surprise package: This package has been specially developed to make recommendation based on collaborative filtering easy. It has default implementation for a variety of Collaborative Filtering algorithms such as NMF, kNN, Co-Clustering, SVD."
   ]
  },
  {
   "cell_type": "code",
   "execution_count": null,
   "metadata": {},
   "outputs": [],
   "source": [
    "df3 = items_purchase.stack().to_frame()"
   ]
  },
  {
   "cell_type": "code",
   "execution_count": null,
   "metadata": {},
   "outputs": [],
   "source": [
    "df3.reset_index(inplace=True)"
   ]
  },
  {
   "cell_type": "code",
   "execution_count": null,
   "metadata": {},
   "outputs": [],
   "source": [
    "df3"
   ]
  },
  {
   "cell_type": "markdown",
   "metadata": {},
   "source": [
    "3877 unique items x 4339 unique customer ids\n",
    "\n",
    "Total records in df3 should be 3877x4339 = 1,68,22,303\n",
    "\n",
    "And this size is too big to pass into an algorithm so we need to reduce the size of dataset by shortlisting."
   ]
  },
  {
   "cell_type": "markdown",
   "metadata": {},
   "source": [
    "### Shortlisting customers & items based on no. of orders"
   ]
  },
  {
   "cell_type": "code",
   "execution_count": null,
   "metadata": {},
   "outputs": [],
   "source": [
    "# Storing all customer ids in customers\n",
    "customers = df['CustomerID']\n",
    "\n",
    "# Storing all item descriptions in items\n",
    "items = df['StockCode']"
   ]
  },
  {
   "cell_type": "code",
   "execution_count": null,
   "metadata": {},
   "outputs": [],
   "source": [
    "from collections import Counter"
   ]
  },
  {
   "cell_type": "code",
   "execution_count": null,
   "metadata": {},
   "outputs": [],
   "source": [
    "# counting no. of orders made by each customer\n",
    "count1 = Counter(customers)\n",
    "\n",
    "# storing the count and customer id in a dataframe\n",
    "countdf1 = pd.DataFrame.from_dict(count1, orient='index').reset_index()\n",
    "\n",
    "# dropping all customer ids with less than 120 orders\n",
    "countdf1 = countdf1[countdf1[0]>120]\n",
    "\n",
    "# renaming the index column as CustomerID for inner join\n",
    "countdf1.rename(columns={'index':'CustomerID'},inplace=True)"
   ]
  },
  {
   "cell_type": "code",
   "execution_count": null,
   "metadata": {},
   "outputs": [],
   "source": [
    "countdf1"
   ]
  },
  {
   "cell_type": "code",
   "execution_count": null,
   "metadata": {},
   "outputs": [],
   "source": [
    "# counting no. of times an item was ordered\n",
    "count2 = Counter(items)\n",
    "\n",
    "# storing the count and item description in a dataframe\n",
    "countdf2 = pd.DataFrame.from_dict(count2, orient='index').reset_index()\n",
    "\n",
    "# dropping all items which were ordered less than 120 times\n",
    "countdf2 = countdf2[countdf2[0]>120]\n",
    "\n",
    "# renaming the index column as Description for inner join\n",
    "countdf2.rename(columns={'index':'StockCode'},inplace=True)"
   ]
  },
  {
   "cell_type": "code",
   "execution_count": null,
   "metadata": {},
   "outputs": [],
   "source": [
    "countdf2"
   ]
  },
  {
   "cell_type": "markdown",
   "metadata": {},
   "source": [
    "Applying inner join"
   ]
  },
  {
   "cell_type": "code",
   "execution_count": null,
   "metadata": {},
   "outputs": [],
   "source": [
    "df4 = pd.merge(df3, countdf2, on='StockCode', how='inner')\n",
    "df4 = pd.merge(df4, countdf1, on='CustomerID', how='inner')"
   ]
  },
  {
   "cell_type": "code",
   "execution_count": null,
   "metadata": {},
   "outputs": [],
   "source": [
    "df4"
   ]
  },
  {
   "cell_type": "code",
   "execution_count": null,
   "metadata": {},
   "outputs": [],
   "source": [
    "# dropping columns which are not necessary\n",
    "df4.drop(['0_y','0_x'],axis=1,inplace=True)"
   ]
  },
  {
   "cell_type": "code",
   "execution_count": null,
   "metadata": {},
   "outputs": [],
   "source": [
    "df4"
   ]
  },
  {
   "cell_type": "code",
   "execution_count": null,
   "metadata": {},
   "outputs": [],
   "source": [
    "df4.describe()"
   ]
  },
  {
   "cell_type": "markdown",
   "metadata": {},
   "source": [
    "This is how the df4 looks like. We have reduced the size from 1,68,22,303 to 3,85,672.\n",
    "\n",
    "This format is exactly what is suitable to be passed into surprise library."
   ]
  },
  {
   "cell_type": "code",
   "execution_count": null,
   "metadata": {},
   "outputs": [],
   "source": [
    "# reading the data in a format supported by surprise library.\n",
    "reader = Reader(rating_scale=(0,5946))\n",
    "# the range has been set as 0,5946 as the maximum value of quantity is 5946.\n",
    "\n",
    "# loading Dataset in a format supported by surprise library.\n",
    "data = Dataset.load_from_df(df4, reader)"
   ]
  },
  {
   "cell_type": "code",
   "execution_count": null,
   "metadata": {},
   "outputs": [],
   "source": [
    "# performing train test split on the dataset\n",
    "trainset, testset = train_test_split(data, test_size= 0.2)"
   ]
  },
  {
   "cell_type": "markdown",
   "metadata": {},
   "source": [
    "### Implementing NMF"
   ]
  },
  {
   "cell_type": "code",
   "execution_count": null,
   "metadata": {},
   "outputs": [],
   "source": [
    "algo1 = NMF()\n",
    "\n",
    "algo1.fit(trainset)\n",
    "\n",
    "pred1 = algo1.test(testset)"
   ]
  },
  {
   "cell_type": "code",
   "execution_count": null,
   "metadata": {},
   "outputs": [],
   "source": [
    "accuracy.rmse(pred1)\n",
    "\n",
    "accuracy.mae(pred1)"
   ]
  },
  {
   "cell_type": "code",
   "execution_count": null,
   "metadata": {},
   "outputs": [],
   "source": [
    "cross_validate(algo1, data, verbose=True)"
   ]
  },
  {
   "cell_type": "markdown",
   "metadata": {},
   "source": [
    "### Implementing Co-Clustering"
   ]
  },
  {
   "cell_type": "code",
   "execution_count": null,
   "metadata": {},
   "outputs": [],
   "source": [
    "algo = CoClustering()\n",
    "\n",
    "algo.fit(trainset)\n",
    "\n",
    "pred = algo.test(testset)"
   ]
  },
  {
   "cell_type": "code",
   "execution_count": null,
   "metadata": {},
   "outputs": [],
   "source": [
    "accuracy.rmse(pred)\n",
    "\n",
    "accuracy.mae(pred)"
   ]
  },
  {
   "cell_type": "code",
   "execution_count": null,
   "metadata": {},
   "outputs": [],
   "source": [
    "cross_validate(algo, data, verbose=True)"
   ]
  },
  {
   "cell_type": "markdown",
   "metadata": {},
   "source": [
    "### Giving out predictions"
   ]
  },
  {
   "cell_type": "code",
   "execution_count": null,
   "metadata": {},
   "outputs": [],
   "source": [
    "pred1\n",
    "\n",
    "# Predictions given out by NMF"
   ]
  },
  {
   "cell_type": "code",
   "execution_count": null,
   "metadata": {},
   "outputs": [],
   "source": [
    "pred\n",
    "\n",
    "# Predictions given out by Co-Clustering"
   ]
  },
  {
   "cell_type": "markdown",
   "metadata": {},
   "source": [
    "### Best and Worst Predictions made by NMF"
   ]
  },
  {
   "cell_type": "code",
   "execution_count": null,
   "metadata": {},
   "outputs": [],
   "source": [
    "def get_item_orders(uid):\n",
    "    try:\n",
    "        return len(trainset.ur[trainset.to_inner_uid(uid)]) # returns the number of orders made for that item\n",
    "    except ValueError: # user was not part of the trainset\n",
    "        return 0\n",
    "    \n",
    "def get_customer_orders(iid):\n",
    "    try: \n",
    "        return len(trainset.ir[trainset.to_inner_iid(iid)]) # returns the number of orders made by that customers\n",
    "    except ValueError: # item was not part of the trainset\n",
    "        return 0\n",
    "    \n",
    "predictions_df = pd.DataFrame(pred1, columns=['item', 'customer', 'quantity', 'est', 'details'])\n",
    "predictions_df['item_orders'] = predictions_df.item.apply(get_item_orders)\n",
    "predictions_df['customer_orders'] = predictions_df.customer.apply(get_customer_orders)\n",
    "predictions_df['err'] = abs(predictions_df.est - predictions_df.quantity)\n",
    "best_predictions = predictions_df.sort_values(by='err')[:10]\n",
    "worst_predictions = predictions_df.sort_values(by='err')[-10:]"
   ]
  },
  {
   "cell_type": "code",
   "execution_count": null,
   "metadata": {},
   "outputs": [],
   "source": [
    "predictions_df"
   ]
  },
  {
   "cell_type": "code",
   "execution_count": null,
   "metadata": {},
   "outputs": [],
   "source": [
    "best_predictions"
   ]
  },
  {
   "cell_type": "code",
   "execution_count": null,
   "metadata": {},
   "outputs": [],
   "source": [
    "worst_predictions"
   ]
  }
 ],
 "metadata": {
  "kernelspec": {
   "display_name": "Python 3",
   "language": "python",
   "name": "python3"
  },
  "language_info": {
   "codemirror_mode": {
    "name": "ipython",
    "version": 3
   },
   "file_extension": ".py",
   "mimetype": "text/x-python",
   "name": "python",
   "nbconvert_exporter": "python",
   "pygments_lexer": "ipython3",
   "version": "3.8.8"
  }
 },
 "nbformat": 4,
 "nbformat_minor": 4
}
